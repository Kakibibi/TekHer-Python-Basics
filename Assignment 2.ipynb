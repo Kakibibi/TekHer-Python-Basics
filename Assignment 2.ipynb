{
 "cells": [
  {
   "cell_type": "code",
   "execution_count": 1,
   "id": "d5b188bb-6548-4667-bf91-36acb52d21cb",
   "metadata": {},
   "outputs": [
    {
     "name": "stdout",
     "output_type": "stream",
     "text": [
      "Python is amazing!\n"
     ]
    }
   ],
   "source": [
    "\n",
    "text = \"Python is amazing!\"\n",
    "print(text)\n"
   ]
  },
  {
   "cell_type": "markdown",
   "id": "d72635d6-69ed-4c9c-b410-a9da6bef51da",
   "metadata": {},
   "source": [
    "Exercise 1"
   ]
  },
  {
   "cell_type": "code",
   "execution_count": 3,
   "id": "6826fe63-83b1-44e9-b15c-1224ce414907",
   "metadata": {},
   "outputs": [
    {
     "name": "stdout",
     "output_type": "stream",
     "text": [
      "13\n"
     ]
    }
   ],
   "source": [
    "\n",
    "length = len(\"Hello, World!\")\n",
    "print(length)\n"
   ]
  },
  {
   "cell_type": "markdown",
   "id": "e999c02a-24ce-48ab-b0e4-c387a10ff5d0",
   "metadata": {},
   "source": [
    "Exercise 2"
   ]
  },
  {
   "cell_type": "code",
   "execution_count": 4,
   "id": "e5f98075-ec18-49e8-b56d-9df65f53b337",
   "metadata": {},
   "outputs": [
    {
     "name": "stdout",
     "output_type": "stream",
     "text": [
      "PYTHON PROGRAMMING\n"
     ]
    }
   ],
   "source": [
    "\n",
    "text = \"python programming\"\n",
    "upper_text = text.upper()\n",
    "print(upper_text)\n"
   ]
  },
  {
   "cell_type": "markdown",
   "id": "2df494e8-16b5-4ce6-ba8f-5c71d3da620b",
   "metadata": {},
   "source": [
    "Exercise 3"
   ]
  },
  {
   "cell_type": "code",
   "execution_count": 5,
   "id": "af4dfc5c-6254-4942-8068-9bd24f2bbf60",
   "metadata": {},
   "outputs": [
    {
     "name": "stdout",
     "output_type": "stream",
     "text": [
      "Artif\n"
     ]
    }
   ],
   "source": [
    "\n",
    "text = \"Artificial Intelligence\"\n",
    "first_five = text[:5]\n",
    "print(first_five)\n"
   ]
  },
  {
   "cell_type": "markdown",
   "id": "3c80dc50-3782-46d8-9e76-46920457f1db",
   "metadata": {},
   "source": [
    "Exercise 4"
   ]
  },
  {
   "cell_type": "code",
   "execution_count": 6,
   "id": "2f350ab6-3cb3-4218-9cfd-6b7a392a7c64",
   "metadata": {},
   "outputs": [
    {
     "name": "stdout",
     "output_type": "stream",
     "text": [
      "Hello World\n"
     ]
    }
   ],
   "source": [
    "\n",
    "greeting = \"Hello\" + \" \" + \"World\"\n",
    "print(greeting)\n"
   ]
  },
  {
   "cell_type": "markdown",
   "id": "76adcbd4-9490-4bae-843b-55116ac93290",
   "metadata": {},
   "source": [
    "Exercise 5"
   ]
  },
  {
   "cell_type": "code",
   "execution_count": 8,
   "id": "828778da-9a7a-47d2-a477-b971a822dca7",
   "metadata": {},
   "outputs": [
    {
     "name": "stdout",
     "output_type": "stream",
     "text": [
      "The quick brown cat jumps over the lazy cat.\n"
     ]
    }
   ],
   "source": [
    "\n",
    "sentence = \"The quick brown dog jumps over the lazy dog.\"\n",
    "updated_sentence = sentence.replace(\"dog\", \"cat\")\n",
    "print(updated_sentence)\n"
   ]
  },
  {
   "cell_type": "markdown",
   "id": "97d93234-c290-48a9-9eb5-cdf994ef42e3",
   "metadata": {},
   "source": [
    "Exercise 6"
   ]
  },
  {
   "cell_type": "code",
   "execution_count": 9,
   "id": "ecd4c270-04c8-492f-adbd-3f412d931d3b",
   "metadata": {},
   "outputs": [
    {
     "name": "stdout",
     "output_type": "stream",
     "text": [
      "['apple', 'banana', 'orange']\n"
     ]
    }
   ],
   "source": [
    "\n",
    "fruits = \"apple,banana,orange\"\n",
    "fruits_list = fruits.split(\",\")\n",
    "print(fruits_list)\n"
   ]
  },
  {
   "cell_type": "markdown",
   "id": "b6095835-4edc-4d52-a8a4-b0a3adebbf14",
   "metadata": {},
   "source": [
    "Exercise 7"
   ]
  },
  {
   "cell_type": "code",
   "execution_count": 12,
   "id": "3fb03f29-bf8f-450a-9da3-b2657f6ba5b4",
   "metadata": {},
   "outputs": [
    {
     "name": "stdout",
     "output_type": "stream",
     "text": [
      "My name is Janviere and I am 25 years old.\n"
     ]
    }
   ],
   "source": [
    "\n",
    "name = \"Janviere\"\n",
    "age = 25\n",
    "sentence = f\"My name is {name} and I am {age} years old.\"\n",
    "print(sentence)\n"
   ]
  },
  {
   "cell_type": "markdown",
   "id": "7779c7e3-5c0b-4973-a095-cd293ce2577b",
   "metadata": {},
   "source": [
    "Exercise 8"
   ]
  },
  {
   "cell_type": "code",
   "execution_count": 13,
   "id": "3733a9f7-1917-4524-b16e-bbadea9e3664",
   "metadata": {},
   "outputs": [
    {
     "name": "stdout",
     "output_type": "stream",
     "text": [
      "True\n"
     ]
    }
   ],
   "source": [
    "\n",
    "sentence = \"I love python programming\"\n",
    "contains_python = \"python\" in sentence\n",
    "print(contains_python)\n"
   ]
  },
  {
   "cell_type": "markdown",
   "id": "9d890371-40af-4b56-9747-94710dd0b311",
   "metadata": {},
   "source": [
    "Exercise 9"
   ]
  },
  {
   "cell_type": "code",
   "execution_count": 14,
   "id": "efae3065-e35a-432b-a222-362d47e3fcfc",
   "metadata": {},
   "outputs": [
    {
     "name": "stdout",
     "output_type": "stream",
     "text": [
      "3\n"
     ]
    }
   ],
   "source": [
    "\n",
    "text = \"Elephant is an elegant animal\"\n",
    "count_e = text.count(\"e\")\n",
    "print(count_e)\n"
   ]
  },
  {
   "cell_type": "markdown",
   "id": "97e9f900-2ead-4234-a031-8946696d9542",
   "metadata": {},
   "source": [
    "Exercise 10"
   ]
  },
  {
   "cell_type": "code",
   "execution_count": 16,
   "id": "06b70bfe-a056-4128-953b-acaafa7b1c21",
   "metadata": {},
   "outputs": [
    {
     "name": "stdout",
     "output_type": "stream",
     "text": [
      "olleH\n"
     ]
    }
   ],
   "source": [
    "\n",
    "text = \"Hello\"\n",
    "reversed_text = text[::-1]\n",
    "print(reversed_text)\n"
   ]
  },
  {
   "cell_type": "markdown",
   "id": "f9419777-41a1-42f1-9e0e-a58b570a99f6",
   "metadata": {},
   "source": [
    "Exercise 11"
   ]
  },
  {
   "cell_type": "code",
   "execution_count": 17,
   "id": "74b74416-cea2-401f-9d88-637107c3d413",
   "metadata": {},
   "outputs": [
    {
     "name": "stdout",
     "output_type": "stream",
     "text": [
      "this is mixed case\n"
     ]
    }
   ],
   "source": [
    "\n",
    "text = \"This Is Mixed CASE\"\n",
    "lower_text = text.lower()\n",
    "print(lower_text)\n"
   ]
  },
  {
   "cell_type": "markdown",
   "id": "feae51a9-00b2-4d09-ac02-c7ac68b3005e",
   "metadata": {},
   "source": [
    "Exercise 12"
   ]
  },
  {
   "cell_type": "code",
   "execution_count": 18,
   "id": "a8d762ba-89c7-480a-a267-745b20a66a0a",
   "metadata": {},
   "outputs": [
    {
     "name": "stdout",
     "output_type": "stream",
     "text": [
      "True\n"
     ]
    }
   ],
   "source": [
    "\n",
    "year = \"2023\"\n",
    "is_numeric = year.isnumeric()\n",
    "print(is_numeric)\n"
   ]
  },
  {
   "cell_type": "markdown",
   "id": "3aa63ee8-6b47-4c0d-b9e0-d1ba0ea2ebf4",
   "metadata": {},
   "source": [
    "Exercise 13"
   ]
  },
  {
   "cell_type": "code",
   "execution_count": 19,
   "id": "8d1eb9f5-04cc-4d53-b92a-52666338cc30",
   "metadata": {},
   "outputs": [
    {
     "name": "stdout",
     "output_type": "stream",
     "text": [
      "Hello world\n"
     ]
    }
   ],
   "source": [
    "\n",
    "text = \"hello world\"\n",
    "capitalized_text = text.capitalize()\n",
    "print(capitalized_text)\n"
   ]
  },
  {
   "cell_type": "markdown",
   "id": "d633e3fa-5195-4d3b-9ead-7a97969145c3",
   "metadata": {},
   "source": [
    "Exercise 14"
   ]
  },
  {
   "cell_type": "code",
   "execution_count": 20,
   "id": "4427a6fe-a13f-4c0e-806c-aae1f9cd4b4d",
   "metadata": {},
   "outputs": [
    {
     "name": "stdout",
     "output_type": "stream",
     "text": [
      "trimmed\n"
     ]
    }
   ],
   "source": [
    "\n",
    "text = \"   trimmed   \"\n",
    "cleaned_text = text.strip()\n",
    "print(cleaned_text)\n"
   ]
  },
  {
   "cell_type": "markdown",
   "id": "67c92044-989e-4cf4-b4ca-9d6f39e32a47",
   "metadata": {},
   "source": [
    "Exercise 15"
   ]
  },
  {
   "cell_type": "code",
   "execution_count": 21,
   "id": "8199164e-a220-4c5c-afde-666f0ffa1c8b",
   "metadata": {},
   "outputs": [
    {
     "name": "stdout",
     "output_type": "stream",
     "text": [
      "5\n"
     ]
    }
   ],
   "source": [
    "\n",
    "text = \"Python is fun and powerful\"\n",
    "word_count = len(text.split())\n",
    "print(word_count)\n"
   ]
  },
  {
   "cell_type": "markdown",
   "id": "9ca1c050-aea1-4929-97e8-5d46899724e1",
   "metadata": {},
   "source": [
    "Exercise 16"
   ]
  },
  {
   "cell_type": "code",
   "execution_count": 22,
   "id": "bd8c1a4d-3305-4753-b17a-3f182cacfef4",
   "metadata": {},
   "outputs": [
    {
     "name": "stdout",
     "output_type": "stream",
     "text": [
      "No-spaces-please\n"
     ]
    }
   ],
   "source": [
    "\n",
    "text = \"No spaces please\"\n",
    "hyphenated = text.replace(\" \", \"-\")\n",
    "print(hyphenated)\n"
   ]
  },
  {
   "cell_type": "markdown",
   "id": "7a904dd2-0fb8-46a8-8de6-fe99a7c7ac52",
   "metadata": {},
   "source": [
    "Exercise 17"
   ]
  },
  {
   "cell_type": "code",
   "execution_count": 29,
   "id": "98bef436-c4d7-46c6-9efc-bc1dc084b3f6",
   "metadata": {},
   "outputs": [
    {
     "data": {
      "text/plain": [
       "'This is the content to be written to the file'"
      ]
     },
     "execution_count": 29,
     "metadata": {},
     "output_type": "execute_result"
    }
   ],
   "source": [
    "text=\"This is the content to be written to the file\"\n",
    "with open(r\"C:\\Users\\Kepler\\Desktop\\GIThUB\\TekHer-Python-Basics\\data\\output.txt\", \"w\") as file:\n",
    "    file.write(text)\n",
    "text\n"
   ]
  },
  {
   "cell_type": "markdown",
   "id": "7a67f91e-9e91-49dd-a621-309e663a3e9c",
   "metadata": {},
   "source": [
    "Exercise 18"
   ]
  },
  {
   "cell_type": "code",
   "execution_count": 44,
   "id": "d8819b4c-7f9a-4d1a-beed-e56a66dd0fd2",
   "metadata": {},
   "outputs": [],
   "source": [
    "\n",
    "with open(r\"C:\\Users\\Kepler\\Desktop\\GIThUB\\TekHer-Python-Basics\\data\\data.txt\", \"r\") as file:\n",
    "    for line in file:\n",
    "        print(line, end='')\n"
   ]
  },
  {
   "cell_type": "markdown",
   "id": "3b034e8b-d16f-4aba-b109-c7354decc5dc",
   "metadata": {},
   "source": [
    "Exercise 19"
   ]
  },
  {
   "cell_type": "code",
   "execution_count": 58,
   "id": "82d74c58-b764-4a87-86c0-4e4aa15366c3",
   "metadata": {},
   "outputs": [
    {
     "name": "stdout",
     "output_type": "stream",
     "text": [
      "file does not exist.\n"
     ]
    }
   ],
   "source": [
    "import os\n",
    "\n",
    "if os.path.isfile(\"example.txt\"):\n",
    "    with open(\"example.txt\", \"r\") as file:\n",
    "        content = file.read()\n",
    "        print(content)\n",
    "else:\n",
    "    print(\"file does not exist.\")\n"
   ]
  },
  {
   "cell_type": "markdown",
   "id": "2b30fc27-a2be-46b7-aa2f-063f7478a9a7",
   "metadata": {},
   "source": [
    "Exercise 20"
   ]
  },
  {
   "cell_type": "code",
   "execution_count": 60,
   "id": "3bbe2fd7-bee4-42d6-b283-008804503dda",
   "metadata": {},
   "outputs": [],
   "source": [
    "with open(\"notes.txt\", \"a\") as file:\n",
    "    file.write(\"This is a new line\\n\")\n"
   ]
  },
  {
   "cell_type": "markdown",
   "id": "1463121e-2403-458f-8379-b5ca9a725ff3",
   "metadata": {},
   "source": [
    "Exercise 21"
   ]
  },
  {
   "cell_type": "code",
   "execution_count": 62,
   "id": "54fe20d9-7e3e-408f-b898-70712a3d27e5",
   "metadata": {},
   "outputs": [],
   "source": [
    "with open(r\"C:\\Users\\Kepler\\Desktop\\GIThUB\\TekHer-Python-Basics\\data\\log.txt\") as file:\n",
    "    log_lines = file.readlines()\n",
    "\n",
    "# To remove newline characters from each line, you can use:\n",
    "log_lines = [line.strip() for line in log_lines]\n"
   ]
  },
  {
   "cell_type": "markdown",
   "id": "4a1c4475-c2ed-4103-b655-678228f72b5c",
   "metadata": {},
   "source": [
    "Exercise 22"
   ]
  },
  {
   "cell_type": "code",
   "execution_count": 63,
   "id": "122109b6-162e-408d-8984-6104d9213d14",
   "metadata": {},
   "outputs": [],
   "source": [
    "with open(\"report.txt\", \"w\") as file:\n",
    "    file.write(\"Data analysis report\")\n"
   ]
  },
  {
   "cell_type": "markdown",
   "id": "1423b3c5-e9fc-43a9-9feb-4a4026c9d078",
   "metadata": {},
   "source": [
    "Exercise 23"
   ]
  },
  {
   "cell_type": "code",
   "execution_count": 64,
   "id": "b09d82ed-3bbb-4d20-ac7d-14784f018f50",
   "metadata": {},
   "outputs": [],
   "source": [
    "# Read and replace\n",
    "with open(r\"C:\\Users\\Kepler\\Desktop\\GIThUB\\TekHer-Python-Basics\\data\\log.txt\") as file:\n",
    "    content = file.read()\n",
    "\n",
    "# Replace \"error\" with \"issue\", case-insensitive\n",
    "updated_content = content.replace(\"ERROR\", \"ISSUE\").replace(\"error\", \"issue\")\n",
    "\n",
    "# Write the updated content back to the file\n",
    "with open(\"log.txt\", \"w\") as file:\n",
    "    file.write(updated_content)\n"
   ]
  },
  {
   "cell_type": "markdown",
   "id": "bb499281-0a5e-4c3a-87b7-df8fcb4ee5d2",
   "metadata": {},
   "source": [
    "Exercise 24"
   ]
  },
  {
   "cell_type": "code",
   "execution_count": 66,
   "id": "1e4608be-1a6c-48cb-919e-237e2906139c",
   "metadata": {},
   "outputs": [
    {
     "name": "stdout",
     "output_type": "stream",
     "text": [
      "Word count: 12\n"
     ]
    }
   ],
   "source": [
    "# Open the file and read its content\n",
    "with open(r\"C:\\Users\\Kepler\\Desktop\\GIThUB\\TekHer-Python-Basics\\data\\document.txt\") as file:\n",
    "    content = file.read()\n",
    "\n",
    "# Split the content into words and count them\n",
    "word_count = len(content.split())\n",
    "\n",
    "# Print the word count\n",
    "print(\"Word count:\", word_count)\n"
   ]
  },
  {
   "cell_type": "markdown",
   "id": "e1dc6fc5-a4b0-4227-a098-198f5b93cbfe",
   "metadata": {},
   "source": [
    "Exercise 25"
   ]
  },
  {
   "cell_type": "code",
   "execution_count": 67,
   "id": "f55c503a-fac9-42ba-951c-4451037aa33c",
   "metadata": {},
   "outputs": [
    {
     "name": "stdout",
     "output_type": "stream",
     "text": [
      "Total lines: 1\n",
      "Total words: 10\n",
      "Total characters: 66\n"
     ]
    }
   ],
   "source": [
    "# Read the file\n",
    "with open( r\"C:\\Users\\Kepler\\Desktop\\GIThUB\\TekHer-Python-Basics\\data\\essay.txt\") as file:\n",
    "    lines = file.readlines()\n",
    "\n",
    "# Count lines\n",
    "line_count = len(lines)\n",
    "\n",
    "# Count words\n",
    "word_count = sum(len(line.split()) for line in lines)\n",
    "\n",
    "# Count characters (including spaces and punctuation)\n",
    "char_count = sum(len(line) for line in lines)\n",
    "\n",
    "# Print the results\n",
    "print(\"Total lines:\", line_count)\n",
    "print(\"Total words:\", word_count)\n",
    "print(\"Total characters:\", char_count)\n"
   ]
  },
  {
   "cell_type": "markdown",
   "id": "85082a3f-7ac8-4c54-a95d-717901cbf966",
   "metadata": {},
   "source": [
    "Exercise 26"
   ]
  },
  {
   "cell_type": "code",
   "execution_count": 68,
   "id": "beb759d4-4d1c-4144-b94d-6a77423ede37",
   "metadata": {},
   "outputs": [
    {
     "name": "stdout",
     "output_type": "stream",
     "text": [
      "File copied successfully.\n"
     ]
    }
   ],
   "source": [
    "# Open source.txt in read mode\n",
    "with open(r\"C:\\Users\\Kepler\\Desktop\\GIThUB\\TekHer-Python-Basics\\data\\source.txt\") as source_file:\n",
    "    content = source_file.read()\n",
    "\n",
    "# Write the content into destination.txt\n",
    "with open(r\"C:\\Users\\Kepler\\Desktop\\GIThUB\\TekHer-Python-Basics\\data\\destination.txt\", 'w') as destination_file:\n",
    "    destination_file.write(content)\n",
    "\n",
    "print(\"File copied successfully.\")\n"
   ]
  },
  {
   "cell_type": "markdown",
   "id": "7527ee1b-619f-42a4-8c75-e5f1dd787a08",
   "metadata": {},
   "source": [
    "Exercise 27"
   ]
  },
  {
   "cell_type": "code",
   "execution_count": null,
   "id": "933ac8b2-cb65-4792-80d3-7cc7f2474b25",
   "metadata": {},
   "outputs": [],
   "source": []
  }
 ],
 "metadata": {
  "kernelspec": {
   "display_name": "Python 3 (ipykernel)",
   "language": "python",
   "name": "python3"
  },
  "language_info": {
   "codemirror_mode": {
    "name": "ipython",
    "version": 3
   },
   "file_extension": ".py",
   "mimetype": "text/x-python",
   "name": "python",
   "nbconvert_exporter": "python",
   "pygments_lexer": "ipython3",
   "version": "3.12.4"
  }
 },
 "nbformat": 4,
 "nbformat_minor": 5
}
