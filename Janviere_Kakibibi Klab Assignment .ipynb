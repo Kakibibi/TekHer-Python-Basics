{
 "cells": [
  {
   "cell_type": "code",
   "execution_count": 2,
   "id": "1c7af9ed-2339-43f2-991e-1fa3fbe203ef",
   "metadata": {},
   "outputs": [],
   "source": [
    "x=10"
   ]
  },
  {
   "cell_type": "markdown",
   "id": "bab96bbc-10b0-4dcf-8daf-6c323947ac87",
   "metadata": {},
   "source": [
    "Exercise 1"
   ]
  },
  {
   "cell_type": "code",
   "execution_count": 3,
   "id": "b7fcde40-27dc-499c-9420-2ac1d85b2266",
   "metadata": {},
   "outputs": [],
   "source": [
    "is_valid= True"
   ]
  },
  {
   "cell_type": "markdown",
   "id": "682d749d-248d-4957-a679-2974939088aa",
   "metadata": {},
   "source": [
    "Exercise 2"
   ]
  },
  {
   "cell_type": "code",
   "execution_count": 4,
   "id": "bb29d770-64dc-4b3c-a480-c92d5870659c",
   "metadata": {},
   "outputs": [],
   "source": [
    "name= \"Python Programming\""
   ]
  },
  {
   "cell_type": "markdown",
   "id": "e81caf62-b90c-49b9-b30b-b5ca4d826e60",
   "metadata": {},
   "source": [
    "Exercise 3"
   ]
  },
  {
   "cell_type": "code",
   "execution_count": 5,
   "id": "e6337f94-ea97-48db-bd08-cf4510b6c2c9",
   "metadata": {},
   "outputs": [],
   "source": [
    "Sum_result=5+3"
   ]
  },
  {
   "cell_type": "markdown",
   "id": "c91151ac-b2c9-47ba-acc1-6d0754ea687a",
   "metadata": {},
   "source": [
    "Exercise 4"
   ]
  },
  {
   "cell_type": "code",
   "execution_count": 6,
   "id": "d66c0ea9-937b-4fa0-8acb-f17af48bdfbc",
   "metadata": {},
   "outputs": [],
   "source": [
    "a,b,c= 5,10,15"
   ]
  },
  {
   "cell_type": "markdown",
   "id": "876dbcc3-ad26-42da-af77-5f674417077d",
   "metadata": {},
   "source": [
    "Exercise 5"
   ]
  },
  {
   "cell_type": "code",
   "execution_count": 7,
   "id": "053dcb4d-24cb-423f-908f-47d82e4cbd7b",
   "metadata": {},
   "outputs": [],
   "source": [
    "x=5\n",
    "y=x"
   ]
  },
  {
   "cell_type": "markdown",
   "id": "48a161cc-d9a4-4681-9d3d-012d77294718",
   "metadata": {},
   "source": [
    "Exercise 6"
   ]
  },
  {
   "cell_type": "code",
   "execution_count": 8,
   "id": "6ce42336-c693-44c2-aa19-9ce5ac7b6b46",
   "metadata": {},
   "outputs": [],
   "source": [
    "gravity=9.8"
   ]
  },
  {
   "cell_type": "markdown",
   "id": "92be3762-a7f9-46c3-a0c3-d1bc4e5cedba",
   "metadata": {},
   "source": [
    "Exercise 7"
   ]
  },
  {
   "cell_type": "code",
   "execution_count": 9,
   "id": "946e277e-4d4f-452e-9ab0-77f0cbfd20b9",
   "metadata": {},
   "outputs": [],
   "source": [
    "Country= \"Rwanda\""
   ]
  },
  {
   "cell_type": "markdown",
   "id": "adafa1bb-d081-45a6-bc0e-252799c6dae6",
   "metadata": {},
   "source": [
    "Exercise 8"
   ]
  },
  {
   "cell_type": "code",
   "execution_count": 10,
   "id": "babd3e4b-0f5e-4875-9dcb-edf090bfe777",
   "metadata": {},
   "outputs": [],
   "source": [
    "age=15\n",
    "age=26"
   ]
  },
  {
   "cell_type": "markdown",
   "id": "9a167e80-d6a0-48fc-b549-98e77c7b46a3",
   "metadata": {},
   "source": [
    "Exercise 9"
   ]
  },
  {
   "cell_type": "code",
   "execution_count": 11,
   "id": "8ab6ec84-22e3-4592-af8d-07d220d72a35",
   "metadata": {},
   "outputs": [],
   "source": [
    "difference= 20-7"
   ]
  },
  {
   "cell_type": "markdown",
   "id": "085218fc-6bbf-424a-b25c-b6925fea4c00",
   "metadata": {},
   "source": [
    "Exercise 10"
   ]
  },
  {
   "cell_type": "code",
   "execution_count": 13,
   "id": "855ebdf3-5cdc-464e-8cb7-e5311be394f3",
   "metadata": {},
   "outputs": [],
   "source": [
    "Value1= 4\n",
    "Value2= 3.14"
   ]
  },
  {
   "cell_type": "markdown",
   "id": "f7e3d801-7c7e-4de7-bb0a-8a6d66570ffe",
   "metadata": {},
   "source": [
    "Exercise 11"
   ]
  },
  {
   "cell_type": "code",
   "execution_count": 14,
   "id": "9224e89e-3463-458c-bb89-38eccb83ea56",
   "metadata": {},
   "outputs": [],
   "source": [
    "is_completed = False\n"
   ]
  },
  {
   "cell_type": "markdown",
   "id": "af61809e-023a-4b27-982c-fd9b2845a86b",
   "metadata": {},
   "source": [
    "Exercise 12"
   ]
  },
  {
   "cell_type": "code",
   "execution_count": 18,
   "id": "d0c4f24a-5f32-40b9-ad2b-37e2340bda40",
   "metadata": {},
   "outputs": [
    {
     "name": "stdout",
     "output_type": "stream",
     "text": [
      "10 5\n"
     ]
    }
   ],
   "source": [
    "x = 5\n",
    "y = 10\n",
    "x, y = y, x\n",
    "print(x,y)"
   ]
  },
  {
   "cell_type": "markdown",
   "id": "a55dfe8b-4b53-4696-92d8-99aa502679f0",
   "metadata": {},
   "source": [
    "Exercise 13"
   ]
  },
  {
   "cell_type": "code",
   "execution_count": 19,
   "id": "d9b6e6b1-cdb4-4a0e-bb8d-aa428cb68189",
   "metadata": {},
   "outputs": [],
   "source": [
    "complex_num = 3 + 4j\n"
   ]
  },
  {
   "cell_type": "markdown",
   "id": "3437ea6e-e066-45f4-b6e5-69954fb04a68",
   "metadata": {},
   "source": [
    "Exercise 14"
   ]
  },
  {
   "cell_type": "code",
   "execution_count": 21,
   "id": "2708ecc8-f1a3-4454-ad75-995c85dc7a1c",
   "metadata": {},
   "outputs": [],
   "source": [
    "var = 10\n",
    "var = \"ten\"\n"
   ]
  },
  {
   "cell_type": "markdown",
   "id": "fb3b17c6-d176-44bb-8401-521506fbdecd",
   "metadata": {},
   "source": [
    "Exercise 15"
   ]
  },
  {
   "cell_type": "code",
   "execution_count": 22,
   "id": "8b1e86a0-0f5a-4f91-a256-03c024eee842",
   "metadata": {},
   "outputs": [],
   "source": [
    "first_name = \"Janviere\"\n",
    "last_name = \"Kakibibi\"\n"
   ]
  },
  {
   "cell_type": "markdown",
   "id": "5e86ce8f-240a-4873-be25-695d04b92a4c",
   "metadata": {},
   "source": [
    "Exercise 16"
   ]
  },
  {
   "cell_type": "code",
   "execution_count": 23,
   "id": "8cb26980-1781-414f-b715-43944b6afbef",
   "metadata": {},
   "outputs": [],
   "source": [
    "temperature = 35.5\n"
   ]
  },
  {
   "cell_type": "markdown",
   "id": "fc4c269f-4f0c-4b8b-9e39-b682c8720256",
   "metadata": {},
   "source": [
    "Exerrcise 17"
   ]
  },
  {
   "cell_type": "code",
   "execution_count": 24,
   "id": "140489e1-8826-4523-9e6f-411b6f6cde0c",
   "metadata": {},
   "outputs": [],
   "source": [
    "product = 8 * 6\n"
   ]
  },
  {
   "cell_type": "markdown",
   "id": "2e637ab4-0e00-4192-b189-4af37f8ff91b",
   "metadata": {},
   "source": [
    "Exercise 18"
   ]
  },
  {
   "cell_type": "code",
   "execution_count": 25,
   "id": "02a8b45c-b8ab-48b8-b54b-99455e83a911",
   "metadata": {},
   "outputs": [],
   "source": [
    "sentence = \"Learning Python is fun and useful!\"\n",
    "\n"
   ]
  },
  {
   "cell_type": "markdown",
   "id": "51831a68-6b28-4cb0-b1b4-210848f0ff68",
   "metadata": {},
   "source": [
    "Exercise 19"
   ]
  },
  {
   "cell_type": "code",
   "execution_count": 26,
   "id": "ed28adcb-8af5-47c0-9c7e-3f63deb49f99",
   "metadata": {},
   "outputs": [],
   "source": [
    "int_value = int(\"50\")\n"
   ]
  },
  {
   "cell_type": "markdown",
   "id": "39fecfd4-ff63-47f2-9b19-a6ea3f07e4bc",
   "metadata": {},
   "source": [
    "Exercise 20"
   ]
  },
  {
   "cell_type": "code",
   "execution_count": 27,
   "id": "808447e5-a00e-4ad8-94e5-b73efceb14c1",
   "metadata": {},
   "outputs": [],
   "source": [
    "quotient = 144 / 12\n"
   ]
  },
  {
   "cell_type": "markdown",
   "id": "2e4c9164-6a22-4799-85a2-7277b56f8263",
   "metadata": {},
   "source": [
    "Exercise 21"
   ]
  },
  {
   "cell_type": "code",
   "execution_count": 28,
   "id": "ae46ff6d-4905-48df-8794-e556a7cd9e79",
   "metadata": {},
   "outputs": [],
   "source": [
    "remainder = 47 % 5\n"
   ]
  },
  {
   "cell_type": "markdown",
   "id": "0aac3aee-8480-4ea4-a935-8bd68edc8cb9",
   "metadata": {},
   "source": [
    "Exercise 22"
   ]
  },
  {
   "cell_type": "code",
   "execution_count": 29,
   "id": "ba5fe781-c291-4633-a0f4-841ecb309e1e",
   "metadata": {},
   "outputs": [],
   "source": [
    "is_student = True\n"
   ]
  },
  {
   "cell_type": "markdown",
   "id": "48920a06-c223-4c25-b1d3-a96915154b3e",
   "metadata": {},
   "source": [
    "Exercise 23"
   ]
  },
  {
   "cell_type": "code",
   "execution_count": 31,
   "id": "1a4f3e78-2466-4323-afe7-f2d24b45577f",
   "metadata": {},
   "outputs": [],
   "source": [
    "modulo_result = 45 % 4\n"
   ]
  },
  {
   "cell_type": "markdown",
   "id": "68a2ed12-593b-4f52-b739-01051c5397dc",
   "metadata": {},
   "source": [
    "Exercise 24"
   ]
  },
  {
   "cell_type": "code",
   "execution_count": 32,
   "id": "d0de77f4-6dfe-4040-ba18-13aac83c1241",
   "metadata": {},
   "outputs": [],
   "source": [
    "pi = 3.14159\n"
   ]
  },
  {
   "cell_type": "markdown",
   "id": "72bac9a6-dea0-4cef-93aa-9d905a189b82",
   "metadata": {},
   "source": [
    "Exercise 25"
   ]
  },
  {
   "cell_type": "code",
   "execution_count": 33,
   "id": "ffc3ca49-af4d-4920-984b-998c51182a09",
   "metadata": {},
   "outputs": [],
   "source": [
    "length = 5\n",
    "width = 3\n",
    "area = length * width\n"
   ]
  },
  {
   "cell_type": "markdown",
   "id": "b3fe1faa-3787-4208-a9fe-ccb6af154af0",
   "metadata": {},
   "source": [
    "Exercise 26"
   ]
  },
  {
   "cell_type": "code",
   "execution_count": 35,
   "id": "2e237114-133d-4699-a22b-377017847d4e",
   "metadata": {},
   "outputs": [],
   "source": [
    "negative_value = -10\n"
   ]
  },
  {
   "cell_type": "markdown",
   "id": "7fd95f9b-aa0d-4eeb-a306-667a16055d33",
   "metadata": {},
   "source": [
    "Exercise 27"
   ]
  },
  {
   "cell_type": "code",
   "execution_count": 36,
   "id": "c112e5a2-2f0c-4a60-8ffd-ac7033eac339",
   "metadata": {},
   "outputs": [],
   "source": [
    "greeting = \"Hello, World!\"\n"
   ]
  },
  {
   "cell_type": "markdown",
   "id": "6a59b10b-538e-4361-8c98-91c9b620c18a",
   "metadata": {},
   "source": [
    "Exercise 28"
   ]
  },
  {
   "cell_type": "code",
   "execution_count": 38,
   "id": "2a6384e5-68cd-48f5-a47c-7f5dd0c3e7f5",
   "metadata": {},
   "outputs": [],
   "source": [
    "population = 8000000000\n"
   ]
  },
  {
   "cell_type": "markdown",
   "id": "985d92fd-77a2-4965-9e91-5bd656da96e4",
   "metadata": {},
   "source": [
    "Exercise 29"
   ]
  },
  {
   "cell_type": "code",
   "execution_count": 40,
   "id": "df6d98ed-42c2-4689-ab05-fe804ced4c58",
   "metadata": {},
   "outputs": [],
   "source": [
    "power_result = 2 ** 8\n"
   ]
  },
  {
   "cell_type": "markdown",
   "id": "f94c402a-b299-4213-a7e1-f743e1d4c15d",
   "metadata": {},
   "source": [
    "Exercise 30"
   ]
  },
  {
   "cell_type": "code",
   "execution_count": 41,
   "id": "9b4b4b51-21a6-41f2-9549-8bd5197cf8c7",
   "metadata": {},
   "outputs": [],
   "source": [
    "fruits = [\"banana\", \"apple\", \"mango\"]\n"
   ]
  },
  {
   "cell_type": "markdown",
   "id": "5602547c-9f63-4371-976a-732e825c4a66",
   "metadata": {},
   "source": [
    "Exercise 31"
   ]
  },
  {
   "cell_type": "code",
   "execution_count": 42,
   "id": "d4bee74b-49a4-4fe0-b93b-e724dc7ccffd",
   "metadata": {},
   "outputs": [],
   "source": [
    "coordinates = (10, 20, 30)\n"
   ]
  },
  {
   "cell_type": "markdown",
   "id": "2cbd85cf-53ee-4e87-95f5-d2be7c94725e",
   "metadata": {},
   "source": [
    "Exercise 32"
   ]
  },
  {
   "cell_type": "code",
   "execution_count": 43,
   "id": "b8886fec-3918-4d2f-9f1a-79b818a3f63d",
   "metadata": {},
   "outputs": [],
   "source": [
    "person = {\"name\": \"Janviere\", \"age\": 25}\n"
   ]
  },
  {
   "cell_type": "markdown",
   "id": "7737bd30-2c75-4241-b56a-77dc31848c48",
   "metadata": {},
   "source": [
    "Exercise 33"
   ]
  },
  {
   "cell_type": "code",
   "execution_count": 45,
   "id": "719a1558-31d4-4ec6-9fa8-5e654fd70d18",
   "metadata": {},
   "outputs": [],
   "source": [
    "float1 = 5.5\n",
    "float2 = 4.5\n",
    "sum_result = float1 + float2\n"
   ]
  },
  {
   "cell_type": "markdown",
   "id": "9931f3e1-8417-4917-91e9-5a54fc6f5cd1",
   "metadata": {},
   "source": [
    "Exercise 34"
   ]
  },
  {
   "cell_type": "code",
   "execution_count": 46,
   "id": "d96e5721-c9b9-4660-97f8-c0e08384dfd5",
   "metadata": {},
   "outputs": [],
   "source": [
    "is_sunny = 10 > 5\n"
   ]
  },
  {
   "cell_type": "markdown",
   "id": "a488f58d-b34e-4889-8a6d-3652712c565b",
   "metadata": {},
   "source": [
    "Exercise 35"
   ]
  },
  {
   "cell_type": "code",
   "execution_count": 50,
   "id": "cfecca38-eae0-44f6-b609-0d3c2f52104d",
   "metadata": {},
   "outputs": [
    {
     "name": "stdout",
     "output_type": "stream",
     "text": [
      "Nollan 25\n"
     ]
    }
   ],
   "source": [
    "my_string = \"Nollan\"\n",
    "my_age = 25\n",
    "print(my_string, my_age)\n"
   ]
  },
  {
   "cell_type": "markdown",
   "id": "3d3e8aa1-97ea-4385-ae92-08e1d305d276",
   "metadata": {},
   "source": [
    "Exercise 36"
   ]
  },
  {
   "cell_type": "code",
   "execution_count": 52,
   "id": "b9c1f59d-ca02-4f88-accb-b505d9b4ae9b",
   "metadata": {},
   "outputs": [],
   "source": [
    "nbr1 = 123\n",
    "nbr2 = True\n"
   ]
  },
  {
   "cell_type": "markdown",
   "id": "b7919a48-b0e8-45fc-ae8a-e1358b8b6df8",
   "metadata": {},
   "source": [
    "Exercise 37"
   ]
  },
  {
   "cell_type": "code",
   "execution_count": 53,
   "id": "6f98cd92-edd2-4c3a-9e1b-97a5373672a4",
   "metadata": {},
   "outputs": [],
   "source": [
    "is_weekend = False\n"
   ]
  },
  {
   "cell_type": "markdown",
   "id": "4da0ecd5-da27-44b5-8c13-7b984d253df2",
   "metadata": {},
   "source": [
    "Exercise 38"
   ]
  },
  {
   "cell_type": "code",
   "execution_count": 54,
   "id": "7f6dbd2a-a819-4822-8dd9-44604788ff2a",
   "metadata": {},
   "outputs": [],
   "source": [
    "description = \"\"\"This is a multi-line\n",
    "string example in Python.\"\"\"\n"
   ]
  },
  {
   "cell_type": "markdown",
   "id": "8b2e64b5-9bb5-4c57-bef8-3b9f0afb6766",
   "metadata": {},
   "source": [
    "Exercise 39"
   ]
  },
  {
   "cell_type": "code",
   "execution_count": 55,
   "id": "c28e8e19-a5b3-4de9-9d49-e379992c6580",
   "metadata": {},
   "outputs": [],
   "source": [
    "absolute_value = abs(-25)\n"
   ]
  },
  {
   "cell_type": "markdown",
   "id": "759ee38a-3514-46b3-aa32-a1888fa2076b",
   "metadata": {},
   "source": [
    "Exercise 40"
   ]
  },
  {
   "cell_type": "code",
   "execution_count": 56,
   "id": "e71cc840-417c-4a85-a121-4931db7f959d",
   "metadata": {},
   "outputs": [],
   "source": [
    "floor_div_result = 100 // 6\n"
   ]
  },
  {
   "cell_type": "markdown",
   "id": "bded68c6-cecb-4b2d-a8de-2d3211609cb7",
   "metadata": {},
   "source": [
    "Exercise 41"
   ]
  },
  {
   "cell_type": "code",
   "execution_count": 57,
   "id": "b6679f64-cc9e-4a9e-bdea-930370033645",
   "metadata": {},
   "outputs": [],
   "source": [
    "mixed_sum = 5 + 3.2\n"
   ]
  },
  {
   "cell_type": "markdown",
   "id": "b25380c7-1e8a-43ad-bdb6-997a8c5d004f",
   "metadata": {},
   "source": [
    "Exercise 42"
   ]
  },
  {
   "cell_type": "code",
   "execution_count": 58,
   "id": "21949f8c-2b27-434d-b011-25c950bd6d6e",
   "metadata": {},
   "outputs": [],
   "source": [
    "first = \"Data\"\n",
    "second = \"Science\"\n",
    "combined = first + \" \" + second\n"
   ]
  },
  {
   "cell_type": "markdown",
   "id": "c4396a85-0e08-4d00-aa1b-a63b64ec22d3",
   "metadata": {},
   "source": [
    "Exercise 43"
   ]
  },
  {
   "cell_type": "code",
   "execution_count": 59,
   "id": "c1617e7b-6778-463a-b103-077cf7ef396a",
   "metadata": {},
   "outputs": [],
   "source": [
    "empty_list = []\n"
   ]
  },
  {
   "cell_type": "markdown",
   "id": "e0280108-bf34-4bc8-92b0-313778f6bb0a",
   "metadata": {},
   "source": [
    "Exercise 44"
   ]
  },
  {
   "cell_type": "code",
   "execution_count": 61,
   "id": "7120087d-d199-4a06-ab3e-5fdc3cd89830",
   "metadata": {},
   "outputs": [],
   "source": [
    "a = 10\n",
    "b = 15\n",
    "comparison = a < b\n",
    "value= comparison\n"
   ]
  },
  {
   "cell_type": "code",
   "execution_count": 62,
   "id": "f002ec6d-8b81-4c7f-b5ea-07acd6c667a7",
   "metadata": {},
   "outputs": [],
   "source": [
    "long_sentence = \"Python programming is interesting and powerful.\"\n",
    "character_count = len(long_sentence)\n"
   ]
  },
  {
   "cell_type": "markdown",
   "id": "7cc2da9e-d6ac-4082-8d3e-63c71a898b1b",
   "metadata": {},
   "source": [
    "Exercise 46"
   ]
  },
  {
   "cell_type": "code",
   "execution_count": 64,
   "id": "8acfb57f-428a-439f-bc23-029e481bd374",
   "metadata": {},
   "outputs": [],
   "source": [
    "division_result = 7 / 3\n"
   ]
  },
  {
   "cell_type": "markdown",
   "id": "b5dcaab4-4dc1-48c4-b21f-8467baa0a5e4",
   "metadata": {},
   "source": [
    "Exercise 47"
   ]
  },
  {
   "cell_type": "code",
   "execution_count": 65,
   "id": "310843a4-2ee1-4880-862e-df478ef41a1f",
   "metadata": {},
   "outputs": [],
   "source": [
    "speed = \"100 kilommeters per hour\"\n"
   ]
  },
  {
   "cell_type": "markdown",
   "id": "dea89c13-c506-41f5-8ee5-930197e3a6bf",
   "metadata": {},
   "source": [
    "Exercise 48"
   ]
  },
  {
   "cell_type": "code",
   "execution_count": 66,
   "id": "fcd9fe0d-ac19-42a4-8c64-ea70c4bf8681",
   "metadata": {},
   "outputs": [],
   "source": [
    "y=3*x+5\n",
    "x=4"
   ]
  },
  {
   "cell_type": "markdown",
   "id": "f4d781d6-19ee-45b8-a5a1-0925f7cc59f6",
   "metadata": {},
   "source": [
    "Exercise 49"
   ]
  },
  {
   "cell_type": "code",
   "execution_count": 67,
   "id": "3b2ef573-5c32-447c-848c-9acacd13a78c",
   "metadata": {},
   "outputs": [
    {
     "name": "stdout",
     "output_type": "stream",
     "text": [
      "The average is: 10.0\n"
     ]
    }
   ],
   "source": [
    "a = 5\n",
    "b = 10\n",
    "c = 15\n",
    "\n",
    "average = (a + b + c) / 3\n",
    "print(\"The average is:\", average)\n"
   ]
  },
  {
   "cell_type": "markdown",
   "id": "68decbb0-a463-4ea2-af46-9233ec15cdd2",
   "metadata": {},
   "source": [
    "Exercise 50"
   ]
  },
  {
   "cell_type": "code",
   "execution_count": null,
   "id": "d2a05342-0f2f-4734-b4e4-55688017bf3d",
   "metadata": {},
   "outputs": [],
   "source": []
  }
 ],
 "metadata": {
  "kernelspec": {
   "display_name": "Python 3 (ipykernel)",
   "language": "python",
   "name": "python3"
  },
  "language_info": {
   "codemirror_mode": {
    "name": "ipython",
    "version": 3
   },
   "file_extension": ".py",
   "mimetype": "text/x-python",
   "name": "python",
   "nbconvert_exporter": "python",
   "pygments_lexer": "ipython3",
   "version": "3.12.4"
  }
 },
 "nbformat": 4,
 "nbformat_minor": 5
}
